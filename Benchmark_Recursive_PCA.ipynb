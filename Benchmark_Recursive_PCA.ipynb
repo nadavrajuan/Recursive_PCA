{
 "cells": [
  {
   "cell_type": "code",
   "execution_count": 1,
   "metadata": {},
   "outputs": [],
   "source": [
    "import numpy as np\n",
    "from tensorflow.keras.datasets import mnist\n",
    "\n",
    "# Load the dataset\n",
    "(train_images, train_labels), (test_images, test_labels) = mnist.load_data()\n",
    "\n",
    "# Reshape and normalize the data to be in the range [0,1]\n",
    "train_images = train_images.reshape(train_images.shape[0], 28*28).astype('float32') / 255\n",
    "test_images = test_images.reshape(test_images.shape[0], 28*28).astype('float32') / 255\n"
   ]
  },
  {
   "cell_type": "code",
   "execution_count": 3,
   "metadata": {},
   "outputs": [
    {
     "name": "stdout",
     "output_type": "stream",
     "text": [
      "Accuracy on test data: 92.56%\n"
     ]
    }
   ],
   "source": [
    "from sklearn.linear_model import LogisticRegression\n",
    "from sklearn.metrics import accuracy_score\n",
    "\n",
    "# Flatten the images to get 784-dimensional vectors\n",
    "train_data_flattened = train_images.reshape(-1, 28*28)\n",
    "test_data_flattened = test_images.reshape(-1, 28*28)\n",
    "\n",
    "# Create and train the logistic regression model\n",
    "logistic_model = LogisticRegression(max_iter=10000, solver='lbfgs')  # max_iter may need to be increased for convergence\n",
    "logistic_model.fit(train_data_flattened, train_labels)\n",
    "\n",
    "# Predict on the flattened test data\n",
    "predicted_labels = logistic_model.predict(test_data_flattened)\n",
    "\n",
    "# Calculate the accuracy\n",
    "accuracy = accuracy_score(test_labels, predicted_labels)\n",
    "print(f\"Accuracy on test data: {accuracy * 100:.2f}%\")\n"
   ]
  },
  {
   "cell_type": "code",
   "execution_count": 4,
   "metadata": {},
   "outputs": [
    {
     "name": "stderr",
     "output_type": "stream",
     "text": [
      "IMAGEIO FFMPEG_WRITER WARNING: input image is not divisible by macro_block_size=16, resizing from (28, 28) to (32, 32) to ensure video compatibility with most codecs and players. To prevent resizing, make your input image divisible by the macro_block_size or set the macro_block_size to 1 (risking incompatibility).\n"
     ]
    },
    {
     "name": "stdout",
     "output_type": "stream",
     "text": [
      "Video saved as transition_raw.mp4\n"
     ]
    }
   ],
   "source": [
    "import imageio\n",
    "\n",
    "def generate_transition_video_raw(data, labels, class_start, class_end, steps=240):\n",
    "    # Randomly select samples from the two classes\n",
    "    start_samples = data[labels == class_start]\n",
    "    end_samples = data[labels == class_end]\n",
    "\n",
    "    start_image = start_samples[np.random.choice(len(start_samples))]\n",
    "    end_image = end_samples[np.random.choice(len(end_samples))]\n",
    "\n",
    "    # Interpolate between the two images\n",
    "    interpolation_images = [(start_image + (end_image - start_image) * t/steps) for t in range(steps)]\n",
    "    \n",
    "    # Save as video\n",
    "    with imageio.get_writer('transition_raw.mp4', fps=24) as writer:\n",
    "        for img in interpolation_images:\n",
    "            writer.append_data((img.reshape(28, 28) * 255).astype(np.uint8))\n",
    "            \n",
    "    print(\"Video saved as transition_raw.mp4\")\n",
    "\n",
    "# Make sure to load the MNIST data before calling\n",
    "generate_transition_video_raw(train_images, train_labels, 2, 3)\n"
   ]
  },
  {
   "cell_type": "code",
   "execution_count": null,
   "metadata": {},
   "outputs": [],
   "source": []
  }
 ],
 "metadata": {
  "kernelspec": {
   "display_name": "Python 3",
   "language": "python",
   "name": "python3"
  },
  "language_info": {
   "codemirror_mode": {
    "name": "ipython",
    "version": 3
   },
   "file_extension": ".py",
   "mimetype": "text/x-python",
   "name": "python",
   "nbconvert_exporter": "python",
   "pygments_lexer": "ipython3",
   "version": "3.7.6"
  }
 },
 "nbformat": 4,
 "nbformat_minor": 4
}
